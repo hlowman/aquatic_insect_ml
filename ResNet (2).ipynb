{
  "nbformat": 4,
  "nbformat_minor": 0,
  "metadata": {
    "colab": {
      "provenance": [],
      "gpuType": "T4"
    },
    "kernelspec": {
      "name": "python3",
      "display_name": "Python 3"
    },
    "language_info": {
      "name": "python"
    },
    "accelerator": "GPU"
  },
  "cells": [
    {
      "cell_type": "code",
      "source": [
        "!pip install roboflow\n",
        "from roboflow import Roboflow\n",
        "\n",
        "rf = Roboflow(api_key=\"TS1niacLXvvWTierCKCT\")\n",
        "project = rf.workspace(\"insectai\").project(\"my-first-project-fmp4x\")\n",
        "dataset = project.version(12).download(\"yolov8\")\n",
        "\n",
        "print(f\"Dataset location: {dataset.location}\")\n"
      ],
      "metadata": {
        "colab": {
          "base_uri": "https://localhost:8080/"
        },
        "id": "YZqkhfHYnZuE",
        "outputId": "27373851-ddcc-457f-e647-3fae19f4d029"
      },
      "execution_count": 2,
      "outputs": [
        {
          "output_type": "stream",
          "name": "stdout",
          "text": [
            "Collecting roboflow\n",
            "  Downloading roboflow-1.1.67-py3-none-any.whl.metadata (9.7 kB)\n",
            "Requirement already satisfied: certifi in /usr/local/lib/python3.11/dist-packages (from roboflow) (2025.6.15)\n",
            "Collecting idna==3.7 (from roboflow)\n",
            "  Downloading idna-3.7-py3-none-any.whl.metadata (9.9 kB)\n",
            "Requirement already satisfied: cycler in /usr/local/lib/python3.11/dist-packages (from roboflow) (0.12.1)\n",
            "Requirement already satisfied: kiwisolver>=1.3.1 in /usr/local/lib/python3.11/dist-packages (from roboflow) (1.4.8)\n",
            "Requirement already satisfied: matplotlib in /usr/local/lib/python3.11/dist-packages (from roboflow) (3.10.0)\n",
            "Requirement already satisfied: numpy>=1.18.5 in /usr/local/lib/python3.11/dist-packages (from roboflow) (2.0.2)\n",
            "Collecting opencv-python-headless==4.10.0.84 (from roboflow)\n",
            "  Downloading opencv_python_headless-4.10.0.84-cp37-abi3-manylinux_2_17_x86_64.manylinux2014_x86_64.whl.metadata (20 kB)\n",
            "Requirement already satisfied: Pillow>=7.1.2 in /usr/local/lib/python3.11/dist-packages (from roboflow) (11.2.1)\n",
            "Collecting pillow-heif<1 (from roboflow)\n",
            "  Downloading pillow_heif-0.22.0-cp311-cp311-manylinux_2_17_x86_64.manylinux2014_x86_64.whl.metadata (9.6 kB)\n",
            "Requirement already satisfied: python-dateutil in /usr/local/lib/python3.11/dist-packages (from roboflow) (2.9.0.post0)\n",
            "Collecting python-dotenv (from roboflow)\n",
            "  Downloading python_dotenv-1.1.1-py3-none-any.whl.metadata (24 kB)\n",
            "Requirement already satisfied: requests in /usr/local/lib/python3.11/dist-packages (from roboflow) (2.32.3)\n",
            "Requirement already satisfied: six in /usr/local/lib/python3.11/dist-packages (from roboflow) (1.17.0)\n",
            "Requirement already satisfied: urllib3>=1.26.6 in /usr/local/lib/python3.11/dist-packages (from roboflow) (2.4.0)\n",
            "Requirement already satisfied: tqdm>=4.41.0 in /usr/local/lib/python3.11/dist-packages (from roboflow) (4.67.1)\n",
            "Requirement already satisfied: PyYAML>=5.3.1 in /usr/local/lib/python3.11/dist-packages (from roboflow) (6.0.2)\n",
            "Requirement already satisfied: requests-toolbelt in /usr/local/lib/python3.11/dist-packages (from roboflow) (1.0.0)\n",
            "Collecting filetype (from roboflow)\n",
            "  Downloading filetype-1.2.0-py2.py3-none-any.whl.metadata (6.5 kB)\n",
            "Requirement already satisfied: contourpy>=1.0.1 in /usr/local/lib/python3.11/dist-packages (from matplotlib->roboflow) (1.3.2)\n",
            "Requirement already satisfied: fonttools>=4.22.0 in /usr/local/lib/python3.11/dist-packages (from matplotlib->roboflow) (4.58.4)\n",
            "Requirement already satisfied: packaging>=20.0 in /usr/local/lib/python3.11/dist-packages (from matplotlib->roboflow) (24.2)\n",
            "Requirement already satisfied: pyparsing>=2.3.1 in /usr/local/lib/python3.11/dist-packages (from matplotlib->roboflow) (3.2.3)\n",
            "Requirement already satisfied: charset-normalizer<4,>=2 in /usr/local/lib/python3.11/dist-packages (from requests->roboflow) (3.4.2)\n",
            "Downloading roboflow-1.1.67-py3-none-any.whl (86 kB)\n",
            "\u001b[2K   \u001b[90m━━━━━━━━━━━━━━━━━━━━━━━━━━━━━━━━━━━━━━━━\u001b[0m \u001b[32m86.7/86.7 kB\u001b[0m \u001b[31m7.5 MB/s\u001b[0m eta \u001b[36m0:00:00\u001b[0m\n",
            "\u001b[?25hDownloading idna-3.7-py3-none-any.whl (66 kB)\n",
            "\u001b[2K   \u001b[90m━━━━━━━━━━━━━━━━━━━━━━━━━━━━━━━━━━━━━━━━\u001b[0m \u001b[32m66.8/66.8 kB\u001b[0m \u001b[31m6.5 MB/s\u001b[0m eta \u001b[36m0:00:00\u001b[0m\n",
            "\u001b[?25hDownloading opencv_python_headless-4.10.0.84-cp37-abi3-manylinux_2_17_x86_64.manylinux2014_x86_64.whl (49.9 MB)\n",
            "\u001b[2K   \u001b[90m━━━━━━━━━━━━━━━━━━━━━━━━━━━━━━━━━━━━━━━━\u001b[0m \u001b[32m49.9/49.9 MB\u001b[0m \u001b[31m17.5 MB/s\u001b[0m eta \u001b[36m0:00:00\u001b[0m\n",
            "\u001b[?25hDownloading pillow_heif-0.22.0-cp311-cp311-manylinux_2_17_x86_64.manylinux2014_x86_64.whl (7.8 MB)\n",
            "\u001b[2K   \u001b[90m━━━━━━━━━━━━━━━━━━━━━━━━━━━━━━━━━━━━━━━━\u001b[0m \u001b[32m7.8/7.8 MB\u001b[0m \u001b[31m98.4 MB/s\u001b[0m eta \u001b[36m0:00:00\u001b[0m\n",
            "\u001b[?25hDownloading filetype-1.2.0-py2.py3-none-any.whl (19 kB)\n",
            "Downloading python_dotenv-1.1.1-py3-none-any.whl (20 kB)\n",
            "Installing collected packages: filetype, python-dotenv, pillow-heif, opencv-python-headless, idna, roboflow\n",
            "  Attempting uninstall: opencv-python-headless\n",
            "    Found existing installation: opencv-python-headless 4.11.0.86\n",
            "    Uninstalling opencv-python-headless-4.11.0.86:\n",
            "      Successfully uninstalled opencv-python-headless-4.11.0.86\n",
            "  Attempting uninstall: idna\n",
            "    Found existing installation: idna 3.10\n",
            "    Uninstalling idna-3.10:\n",
            "      Successfully uninstalled idna-3.10\n",
            "Successfully installed filetype-1.2.0 idna-3.7 opencv-python-headless-4.10.0.84 pillow-heif-0.22.0 python-dotenv-1.1.1 roboflow-1.1.67\n",
            "loading Roboflow workspace...\n",
            "loading Roboflow project...\n"
          ]
        },
        {
          "output_type": "stream",
          "name": "stderr",
          "text": [
            "Downloading Dataset Version Zip in My-First-Project-12 to yolov8:: 100%|██████████| 10759/10759 [00:00<00:00, 28189.57it/s]"
          ]
        },
        {
          "output_type": "stream",
          "name": "stdout",
          "text": [
            "\n"
          ]
        },
        {
          "output_type": "stream",
          "name": "stderr",
          "text": [
            "\n",
            "Extracting Dataset Version Zip to My-First-Project-12 in yolov8:: 100%|██████████| 100/100 [00:00<00:00, 2431.31it/s]"
          ]
        },
        {
          "output_type": "stream",
          "name": "stdout",
          "text": [
            "Dataset location: /content/My-First-Project-12\n"
          ]
        },
        {
          "output_type": "stream",
          "name": "stderr",
          "text": [
            "\n"
          ]
        }
      ]
    },
    {
      "cell_type": "code",
      "source": [
        "!pip install pillow-heif==0.10.0\n",
        "\n"
      ],
      "metadata": {
        "colab": {
          "base_uri": "https://localhost:8080/",
          "height": 349
        },
        "id": "XpL2dIYvYmjN",
        "outputId": "4c35c9b6-b5ec-4654-c798-82372e76b213"
      },
      "execution_count": 3,
      "outputs": [
        {
          "output_type": "stream",
          "name": "stdout",
          "text": [
            "Collecting pillow-heif==0.10.0\n",
            "  Using cached pillow_heif-0.10.0-cp311-cp311-manylinux_2_17_x86_64.manylinux2014_x86_64.whl.metadata (9.1 kB)\n",
            "Requirement already satisfied: pillow>=8.4.0 in /usr/local/lib/python3.11/dist-packages (from pillow-heif==0.10.0) (11.2.1)\n",
            "Using cached pillow_heif-0.10.0-cp311-cp311-manylinux_2_17_x86_64.manylinux2014_x86_64.whl (7.3 MB)\n",
            "Installing collected packages: pillow-heif\n",
            "  Attempting uninstall: pillow-heif\n",
            "    Found existing installation: pillow_heif 1.0.0\n",
            "    Uninstalling pillow_heif-1.0.0:\n",
            "      Successfully uninstalled pillow_heif-1.0.0\n",
            "\u001b[31mERROR: pip's dependency resolver does not currently take into account all the packages that are installed. This behaviour is the source of the following dependency conflicts.\n",
            "roboflow 1.1.66 requires pillow-heif>=0.18.0, but you have pillow-heif 0.10.0 which is incompatible.\u001b[0m\u001b[31m\n",
            "\u001b[0mSuccessfully installed pillow-heif-0.10.0\n"
          ]
        },
        {
          "output_type": "display_data",
          "data": {
            "application/vnd.colab-display-data+json": {
              "pip_warning": {
                "packages": [
                  "_pillow_heif",
                  "pillow_heif"
                ]
              },
              "id": "17b5ef5ca67f4a428dafec110f10789a"
            }
          },
          "metadata": {}
        }
      ]
    },
    {
      "cell_type": "code",
      "source": [
        "import cv2\n",
        "import numpy as np\n",
        "import os\n",
        "from glob import glob\n",
        "from tqdm import tqdm\n",
        "from collections import Counter\n",
        "import random\n",
        "\n",
        "label_dir = os.path.join(dataset.location, \"train\", \"labels\")\n",
        "image_dir = os.path.join(dataset.location, \"train\", \"images\")\n",
        "cropped_output_dir = \"cropped_dataset\"\n",
        "os.makedirs(cropped_output_dir, exist_ok=True)"
      ],
      "metadata": {
        "id": "VCpwwqJonot7"
      },
      "execution_count": 3,
      "outputs": []
    },
    {
      "cell_type": "code",
      "source": [
        "def yolo_to_xyxy(bbox, img_w, img_h):\n",
        "    x_c, y_c, w, h = bbox\n",
        "    x1 = int((x_c - w / 2) * img_w)\n",
        "    y1 = int((y_c - h / 2) * img_h)\n",
        "    x2 = int((x_c + w / 2) * img_w)\n",
        "    y2 = int((y_c + h / 2) * img_h)\n",
        "    return x1, y1, x2, y2"
      ],
      "metadata": {
        "id": "Y6x2DXOdnrq7"
      },
      "execution_count": 4,
      "outputs": []
    },
    {
      "cell_type": "code",
      "source": [
        "def apply_augmentations(crop):\n",
        "    angle = random.choice([0, 90, 180, 270])\n",
        "    angle=angle + (np.random.random_integers(0,15))\n",
        "    if angle:\n",
        "        crop = np.rot90(crop, k=angle // 90)\n",
        "\n",
        "    crop = cv2.GaussianBlur(crop, (5, 5), 0)\n",
        "    noise = np.random.normal(0, 0.1, crop.shape).astype(np.uint8)\n",
        "    crop = cv2.add(crop, noise)\n",
        "\n",
        "    return crop"
      ],
      "metadata": {
        "id": "c8_KTS3_ntya"
      },
      "execution_count": 5,
      "outputs": []
    },
    {
      "cell_type": "code",
      "source": [
        "\n",
        "rare_classes = [0, 2,4]  # Modify as needed\n",
        "augment_factor = 4\n",
        "\n",
        "class_counter = Counter()\n",
        "\n",
        "for label_file in tqdm(glob(f\"{label_dir}/*.txt\")):\n",
        "    image_file = label_file.replace('/labels/', '/images/').replace('.txt', '.jpg')\n",
        "    img = cv2.imread(image_file)\n",
        "    h, w = img.shape[:2]\n",
        "\n",
        "    with open(label_file, \"r\") as f:\n",
        "        lines = f.readlines()\n",
        "\n",
        "        for idx, line in enumerate(lines):\n",
        "            parts = line.strip().split()\n",
        "            class_id = int(parts[0])\n",
        "            bbox = list(map(float, parts[1:]))\n",
        "            x1, y1, x2, y2 = yolo_to_xyxy(bbox, w, h)\n",
        "\n",
        "            crop = img[y1:y2, x1:x2]\n",
        "            if crop.size == 0:\n",
        "                continue\n",
        "\n",
        "            class_folder = os.path.join(cropped_output_dir, str(class_id))\n",
        "            os.makedirs(class_folder, exist_ok=True)\n",
        "\n",
        "            filename = os.path.basename(image_file).replace('.jpg', f'_{idx}.jpg')\n",
        "            cv2.imwrite(os.path.join(class_folder, filename), crop)\n",
        "            class_counter[class_id] += 1\n",
        "\n",
        "            if class_id in rare_classes:\n",
        "                for aug_idx in range(augment_factor):\n",
        "                    aug_crop = apply_augmentations(crop)\n",
        "                    aug_filename = os.path.basename(image_file).replace('.jpg', f'_{idx}_aug{aug_idx}.jpg')\n",
        "                    cv2.imwrite(os.path.join(class_folder, aug_filename), aug_crop)\n",
        "                    class_counter[class_id] += 1\n",
        "\n",
        "print(\"Class distribution after cropping and augmentation:\", class_counter)\n"
      ],
      "metadata": {
        "colab": {
          "base_uri": "https://localhost:8080/"
        },
        "id": "5HHPtKPWnv3h",
        "outputId": "5c9f6f87-282e-4f9e-e1e9-e4ca48f6767e"
      },
      "execution_count": 6,
      "outputs": [
        {
          "output_type": "stream",
          "name": "stderr",
          "text": [
            "  0%|          | 0/36 [00:00<?, ?it/s]This function is deprecated. Please call randint(0, 15 + 1) instead\n",
            " 17%|█▋        | 6/36 [00:00<00:04,  6.24it/s]This function is deprecated. Please call randint(0, 15 + 1) instead\n",
            "100%|██████████| 36/36 [00:03<00:00, 11.03it/s]"
          ]
        },
        {
          "output_type": "stream",
          "name": "stdout",
          "text": [
            "Class distribution after cropping and augmentation: Counter({1: 7631, 3: 667, 5: 287, 4: 165, 0: 60, 2: 15})\n"
          ]
        },
        {
          "output_type": "stream",
          "name": "stderr",
          "text": [
            "\n"
          ]
        }
      ]
    },
    {
      "cell_type": "code",
      "source": [
        "!pip install scikit-learn\n",
        "from sklearn.model_selection import train_test_split\n",
        "import shutil\n",
        "\n",
        "classification_dir = \"classification_dataset\"\n",
        "os.makedirs(classification_dir, exist_ok=True)\n",
        "\n",
        "for class_id in os.listdir(cropped_output_dir):\n",
        "    class_path = os.path.join(cropped_output_dir, class_id)\n",
        "    images = glob(os.path.join(class_path, '*.jpg'))\n",
        "\n",
        "    train_imgs, val_imgs = train_test_split(images, test_size=0.2, random_state=42)\n",
        "\n",
        "    for phase, img_paths in [('train', train_imgs), ('val', val_imgs)]:\n",
        "        phase_class_dir = os.path.join(classification_dir, phase, class_id)\n",
        "        os.makedirs(phase_class_dir, exist_ok=True)\n",
        "\n",
        "        for img_path in img_paths:\n",
        "            shutil.copy(img_path, phase_class_dir)\n",
        "\n",
        "print(\"Dataset structured for YOLO classification at:\", classification_dir)\n"
      ],
      "metadata": {
        "colab": {
          "base_uri": "https://localhost:8080/"
        },
        "id": "IXgJaeJiny5h",
        "outputId": "a4cbfc4a-eb5a-48a2-af12-23cda979c6df"
      },
      "execution_count": 7,
      "outputs": [
        {
          "output_type": "stream",
          "name": "stdout",
          "text": [
            "Requirement already satisfied: scikit-learn in /usr/local/lib/python3.11/dist-packages (1.6.1)\n",
            "Requirement already satisfied: numpy>=1.19.5 in /usr/local/lib/python3.11/dist-packages (from scikit-learn) (2.0.2)\n",
            "Requirement already satisfied: scipy>=1.6.0 in /usr/local/lib/python3.11/dist-packages (from scikit-learn) (1.15.3)\n",
            "Requirement already satisfied: joblib>=1.2.0 in /usr/local/lib/python3.11/dist-packages (from scikit-learn) (1.5.1)\n",
            "Requirement already satisfied: threadpoolctl>=3.1.0 in /usr/local/lib/python3.11/dist-packages (from scikit-learn) (3.6.0)\n",
            "Dataset structured for YOLO classification at: classification_dataset\n"
          ]
        }
      ]
    },
    {
      "cell_type": "code",
      "execution_count": 8,
      "metadata": {
        "colab": {
          "base_uri": "https://localhost:8080/"
        },
        "id": "Aapa2df8m1r3",
        "outputId": "583b2da3-fa22-4c82-cfe8-400f0e6cbc3a"
      },
      "outputs": [
        {
          "output_type": "stream",
          "name": "stdout",
          "text": [
            "Requirement already satisfied: torchvision in /usr/local/lib/python3.11/dist-packages (0.21.0+cu124)\n",
            "Requirement already satisfied: numpy in /usr/local/lib/python3.11/dist-packages (from torchvision) (2.0.2)\n",
            "Requirement already satisfied: torch==2.6.0 in /usr/local/lib/python3.11/dist-packages (from torchvision) (2.6.0+cu124)\n",
            "Requirement already satisfied: pillow!=8.3.*,>=5.3.0 in /usr/local/lib/python3.11/dist-packages (from torchvision) (11.2.1)\n",
            "Requirement already satisfied: filelock in /usr/local/lib/python3.11/dist-packages (from torch==2.6.0->torchvision) (3.18.0)\n",
            "Requirement already satisfied: typing-extensions>=4.10.0 in /usr/local/lib/python3.11/dist-packages (from torch==2.6.0->torchvision) (4.14.0)\n",
            "Requirement already satisfied: networkx in /usr/local/lib/python3.11/dist-packages (from torch==2.6.0->torchvision) (3.5)\n",
            "Requirement already satisfied: jinja2 in /usr/local/lib/python3.11/dist-packages (from torch==2.6.0->torchvision) (3.1.6)\n",
            "Requirement already satisfied: fsspec in /usr/local/lib/python3.11/dist-packages (from torch==2.6.0->torchvision) (2025.3.2)\n",
            "Collecting nvidia-cuda-nvrtc-cu12==12.4.127 (from torch==2.6.0->torchvision)\n",
            "  Downloading nvidia_cuda_nvrtc_cu12-12.4.127-py3-none-manylinux2014_x86_64.whl.metadata (1.5 kB)\n",
            "Collecting nvidia-cuda-runtime-cu12==12.4.127 (from torch==2.6.0->torchvision)\n",
            "  Downloading nvidia_cuda_runtime_cu12-12.4.127-py3-none-manylinux2014_x86_64.whl.metadata (1.5 kB)\n",
            "Collecting nvidia-cuda-cupti-cu12==12.4.127 (from torch==2.6.0->torchvision)\n",
            "  Downloading nvidia_cuda_cupti_cu12-12.4.127-py3-none-manylinux2014_x86_64.whl.metadata (1.6 kB)\n",
            "Collecting nvidia-cudnn-cu12==9.1.0.70 (from torch==2.6.0->torchvision)\n",
            "  Downloading nvidia_cudnn_cu12-9.1.0.70-py3-none-manylinux2014_x86_64.whl.metadata (1.6 kB)\n",
            "Collecting nvidia-cublas-cu12==12.4.5.8 (from torch==2.6.0->torchvision)\n",
            "  Downloading nvidia_cublas_cu12-12.4.5.8-py3-none-manylinux2014_x86_64.whl.metadata (1.5 kB)\n",
            "Collecting nvidia-cufft-cu12==11.2.1.3 (from torch==2.6.0->torchvision)\n",
            "  Downloading nvidia_cufft_cu12-11.2.1.3-py3-none-manylinux2014_x86_64.whl.metadata (1.5 kB)\n",
            "Collecting nvidia-curand-cu12==10.3.5.147 (from torch==2.6.0->torchvision)\n",
            "  Downloading nvidia_curand_cu12-10.3.5.147-py3-none-manylinux2014_x86_64.whl.metadata (1.5 kB)\n",
            "Collecting nvidia-cusolver-cu12==11.6.1.9 (from torch==2.6.0->torchvision)\n",
            "  Downloading nvidia_cusolver_cu12-11.6.1.9-py3-none-manylinux2014_x86_64.whl.metadata (1.6 kB)\n",
            "Collecting nvidia-cusparse-cu12==12.3.1.170 (from torch==2.6.0->torchvision)\n",
            "  Downloading nvidia_cusparse_cu12-12.3.1.170-py3-none-manylinux2014_x86_64.whl.metadata (1.6 kB)\n",
            "Requirement already satisfied: nvidia-cusparselt-cu12==0.6.2 in /usr/local/lib/python3.11/dist-packages (from torch==2.6.0->torchvision) (0.6.2)\n",
            "Requirement already satisfied: nvidia-nccl-cu12==2.21.5 in /usr/local/lib/python3.11/dist-packages (from torch==2.6.0->torchvision) (2.21.5)\n",
            "Requirement already satisfied: nvidia-nvtx-cu12==12.4.127 in /usr/local/lib/python3.11/dist-packages (from torch==2.6.0->torchvision) (12.4.127)\n",
            "Collecting nvidia-nvjitlink-cu12==12.4.127 (from torch==2.6.0->torchvision)\n",
            "  Downloading nvidia_nvjitlink_cu12-12.4.127-py3-none-manylinux2014_x86_64.whl.metadata (1.5 kB)\n",
            "Requirement already satisfied: triton==3.2.0 in /usr/local/lib/python3.11/dist-packages (from torch==2.6.0->torchvision) (3.2.0)\n",
            "Requirement already satisfied: sympy==1.13.1 in /usr/local/lib/python3.11/dist-packages (from torch==2.6.0->torchvision) (1.13.1)\n",
            "Requirement already satisfied: mpmath<1.4,>=1.1.0 in /usr/local/lib/python3.11/dist-packages (from sympy==1.13.1->torch==2.6.0->torchvision) (1.3.0)\n",
            "Requirement already satisfied: MarkupSafe>=2.0 in /usr/local/lib/python3.11/dist-packages (from jinja2->torch==2.6.0->torchvision) (3.0.2)\n",
            "Downloading nvidia_cublas_cu12-12.4.5.8-py3-none-manylinux2014_x86_64.whl (363.4 MB)\n",
            "\u001b[2K   \u001b[90m━━━━━━━━━━━━━━━━━━━━━━━━━━━━━━━━━━━━━━━━\u001b[0m \u001b[32m363.4/363.4 MB\u001b[0m \u001b[31m4.4 MB/s\u001b[0m eta \u001b[36m0:00:00\u001b[0m\n",
            "\u001b[?25hDownloading nvidia_cuda_cupti_cu12-12.4.127-py3-none-manylinux2014_x86_64.whl (13.8 MB)\n",
            "\u001b[2K   \u001b[90m━━━━━━━━━━━━━━━━━━━━━━━━━━━━━━━━━━━━━━━━\u001b[0m \u001b[32m13.8/13.8 MB\u001b[0m \u001b[31m59.1 MB/s\u001b[0m eta \u001b[36m0:00:00\u001b[0m\n",
            "\u001b[?25hDownloading nvidia_cuda_nvrtc_cu12-12.4.127-py3-none-manylinux2014_x86_64.whl (24.6 MB)\n",
            "\u001b[2K   \u001b[90m━━━━━━━━━━━━━━━━━━━━━━━━━━━━━━━━━━━━━━━━\u001b[0m \u001b[32m24.6/24.6 MB\u001b[0m \u001b[31m65.7 MB/s\u001b[0m eta \u001b[36m0:00:00\u001b[0m\n",
            "\u001b[?25hDownloading nvidia_cuda_runtime_cu12-12.4.127-py3-none-manylinux2014_x86_64.whl (883 kB)\n",
            "\u001b[2K   \u001b[90m━━━━━━━━━━━━━━━━━━━━━━━━━━━━━━━━━━━━━━━━\u001b[0m \u001b[32m883.7/883.7 kB\u001b[0m \u001b[31m54.0 MB/s\u001b[0m eta \u001b[36m0:00:00\u001b[0m\n",
            "\u001b[?25hDownloading nvidia_cudnn_cu12-9.1.0.70-py3-none-manylinux2014_x86_64.whl (664.8 MB)\n",
            "\u001b[2K   \u001b[90m━━━━━━━━━━━━━━━━━━━━━━━━━━━━━━━━━━━━━━━━\u001b[0m \u001b[32m664.8/664.8 MB\u001b[0m \u001b[31m2.6 MB/s\u001b[0m eta \u001b[36m0:00:00\u001b[0m\n",
            "\u001b[?25hDownloading nvidia_cufft_cu12-11.2.1.3-py3-none-manylinux2014_x86_64.whl (211.5 MB)\n",
            "\u001b[2K   \u001b[90m━━━━━━━━━━━━━━━━━━━━━━━━━━━━━━━━━━━━━━━━\u001b[0m \u001b[32m211.5/211.5 MB\u001b[0m \u001b[31m5.9 MB/s\u001b[0m eta \u001b[36m0:00:00\u001b[0m\n",
            "\u001b[?25hDownloading nvidia_curand_cu12-10.3.5.147-py3-none-manylinux2014_x86_64.whl (56.3 MB)\n",
            "\u001b[2K   \u001b[90m━━━━━━━━━━━━━━━━━━━━━━━━━━━━━━━━━━━━━━━━\u001b[0m \u001b[32m56.3/56.3 MB\u001b[0m \u001b[31m20.1 MB/s\u001b[0m eta \u001b[36m0:00:00\u001b[0m\n",
            "\u001b[?25hDownloading nvidia_cusolver_cu12-11.6.1.9-py3-none-manylinux2014_x86_64.whl (127.9 MB)\n",
            "\u001b[2K   \u001b[90m━━━━━━━━━━━━━━━━━━━━━━━━━━━━━━━━━━━━━━━━\u001b[0m \u001b[32m127.9/127.9 MB\u001b[0m \u001b[31m7.9 MB/s\u001b[0m eta \u001b[36m0:00:00\u001b[0m\n",
            "\u001b[?25hDownloading nvidia_cusparse_cu12-12.3.1.170-py3-none-manylinux2014_x86_64.whl (207.5 MB)\n",
            "\u001b[2K   \u001b[90m━━━━━━━━━━━━━━━━━━━━━━━━━━━━━━━━━━━━━━━━\u001b[0m \u001b[32m207.5/207.5 MB\u001b[0m \u001b[31m5.5 MB/s\u001b[0m eta \u001b[36m0:00:00\u001b[0m\n",
            "\u001b[?25hDownloading nvidia_nvjitlink_cu12-12.4.127-py3-none-manylinux2014_x86_64.whl (21.1 MB)\n",
            "\u001b[2K   \u001b[90m━━━━━━━━━━━━━━━━━━━━━━━━━━━━━━━━━━━━━━━━\u001b[0m \u001b[32m21.1/21.1 MB\u001b[0m \u001b[31m96.7 MB/s\u001b[0m eta \u001b[36m0:00:00\u001b[0m\n",
            "\u001b[?25hInstalling collected packages: nvidia-nvjitlink-cu12, nvidia-curand-cu12, nvidia-cufft-cu12, nvidia-cuda-runtime-cu12, nvidia-cuda-nvrtc-cu12, nvidia-cuda-cupti-cu12, nvidia-cublas-cu12, nvidia-cusparse-cu12, nvidia-cudnn-cu12, nvidia-cusolver-cu12\n",
            "  Attempting uninstall: nvidia-nvjitlink-cu12\n",
            "    Found existing installation: nvidia-nvjitlink-cu12 12.5.82\n",
            "    Uninstalling nvidia-nvjitlink-cu12-12.5.82:\n",
            "      Successfully uninstalled nvidia-nvjitlink-cu12-12.5.82\n",
            "  Attempting uninstall: nvidia-curand-cu12\n",
            "    Found existing installation: nvidia-curand-cu12 10.3.6.82\n",
            "    Uninstalling nvidia-curand-cu12-10.3.6.82:\n",
            "      Successfully uninstalled nvidia-curand-cu12-10.3.6.82\n",
            "  Attempting uninstall: nvidia-cufft-cu12\n",
            "    Found existing installation: nvidia-cufft-cu12 11.2.3.61\n",
            "    Uninstalling nvidia-cufft-cu12-11.2.3.61:\n",
            "      Successfully uninstalled nvidia-cufft-cu12-11.2.3.61\n",
            "  Attempting uninstall: nvidia-cuda-runtime-cu12\n",
            "    Found existing installation: nvidia-cuda-runtime-cu12 12.5.82\n",
            "    Uninstalling nvidia-cuda-runtime-cu12-12.5.82:\n",
            "      Successfully uninstalled nvidia-cuda-runtime-cu12-12.5.82\n",
            "  Attempting uninstall: nvidia-cuda-nvrtc-cu12\n",
            "    Found existing installation: nvidia-cuda-nvrtc-cu12 12.5.82\n",
            "    Uninstalling nvidia-cuda-nvrtc-cu12-12.5.82:\n",
            "      Successfully uninstalled nvidia-cuda-nvrtc-cu12-12.5.82\n",
            "  Attempting uninstall: nvidia-cuda-cupti-cu12\n",
            "    Found existing installation: nvidia-cuda-cupti-cu12 12.5.82\n",
            "    Uninstalling nvidia-cuda-cupti-cu12-12.5.82:\n",
            "      Successfully uninstalled nvidia-cuda-cupti-cu12-12.5.82\n",
            "  Attempting uninstall: nvidia-cublas-cu12\n",
            "    Found existing installation: nvidia-cublas-cu12 12.5.3.2\n",
            "    Uninstalling nvidia-cublas-cu12-12.5.3.2:\n",
            "      Successfully uninstalled nvidia-cublas-cu12-12.5.3.2\n",
            "  Attempting uninstall: nvidia-cusparse-cu12\n",
            "    Found existing installation: nvidia-cusparse-cu12 12.5.1.3\n",
            "    Uninstalling nvidia-cusparse-cu12-12.5.1.3:\n",
            "      Successfully uninstalled nvidia-cusparse-cu12-12.5.1.3\n",
            "  Attempting uninstall: nvidia-cudnn-cu12\n",
            "    Found existing installation: nvidia-cudnn-cu12 9.3.0.75\n",
            "    Uninstalling nvidia-cudnn-cu12-9.3.0.75:\n",
            "      Successfully uninstalled nvidia-cudnn-cu12-9.3.0.75\n",
            "  Attempting uninstall: nvidia-cusolver-cu12\n",
            "    Found existing installation: nvidia-cusolver-cu12 11.6.3.83\n",
            "    Uninstalling nvidia-cusolver-cu12-11.6.3.83:\n",
            "      Successfully uninstalled nvidia-cusolver-cu12-11.6.3.83\n",
            "Successfully installed nvidia-cublas-cu12-12.4.5.8 nvidia-cuda-cupti-cu12-12.4.127 nvidia-cuda-nvrtc-cu12-12.4.127 nvidia-cuda-runtime-cu12-12.4.127 nvidia-cudnn-cu12-9.1.0.70 nvidia-cufft-cu12-11.2.1.3 nvidia-curand-cu12-10.3.5.147 nvidia-cusolver-cu12-11.6.1.9 nvidia-cusparse-cu12-12.3.1.170 nvidia-nvjitlink-cu12-12.4.127\n"
          ]
        }
      ],
      "source": [
        "pip install torchvision\n"
      ]
    },
    {
      "cell_type": "code",
      "source": [
        "import torch\n",
        "import torchvision\n",
        "from torchvision import transforms\n",
        "\n",
        "# Define the transformation\n",
        "transform = transforms.Compose([\n",
        "    transforms.Resize(256),\n",
        "    transforms.CenterCrop(224),\n",
        "    transforms.ToTensor(),\n",
        "    transforms.Normalize(\n",
        "        mean=[0.485, 0.456, 0.406],\n",
        "        std=[0.229, 0.224, 0.225]\n",
        "    )\n",
        "])\n",
        "\n",
        "# Load the data\n",
        "train_data = torchvision.datasets.ImageFolder(root=\"/content/classification_dataset/train\", transform=transform)\n",
        "test_data = torchvision.datasets.ImageFolder(root=\"/content/classification_dataset/val\", transform=transform)\n",
        "\n",
        "# Define the dataloaders\n",
        "train_loader = torch.utils.data.DataLoader(train_data, batch_size=32, shuffle=True, num_workers=2)\n",
        "test_loader = torch.utils.data.DataLoader(test_data, batch_size=32, shuffle=False, num_workers=2)"
      ],
      "metadata": {
        "id": "38RiAtWVm8Zt"
      },
      "execution_count": 9,
      "outputs": []
    },
    {
      "cell_type": "code",
      "source": [
        "import torch.nn as nn\n",
        "import torch.optim as optim\n",
        "from torchvision.models import resnet50"
      ],
      "metadata": {
        "id": "edu9zdoLoP4_"
      },
      "execution_count": 10,
      "outputs": []
    },
    {
      "cell_type": "code",
      "source": [
        "import torch.nn as nn\n",
        "import torch.optim as optim\n",
        "from torchvision.models import resnet50, ResNet50_Weights\n",
        "\n",
        "# --- 1. Load the pre-trained ResNet50 model ---\n",
        "model = resnet50(weights=ResNet50_Weights.DEFAULT)\n",
        "\n",
        "# --- 2. Freeze all layers in the network ---\n",
        "# We start by making the entire model non-trainable.\n",
        "print(\"Freezing all model layers...\")\n",
        "for param in model.parameters():\n",
        "    param.requires_grad = False\n",
        "\n",
        "# --- 3. Unfreeze the last two blocks (layer3 and layer4) ---\n",
        "# This is the core of the \"balanced approach\".\n",
        "print(\"Unfreezing layers in 'layer3' and 'layer4'...\")\n",
        "for param in model.layer3.parameters():\n",
        "    param.requires_grad = True\n",
        "\n",
        "for param in model.layer4.parameters():\n",
        "    param.requires_grad = True\n",
        "\n",
        "# --- 4. Replace the final classifier head ---\n",
        "# The new fully connected layer will be trainable by default.\n",
        "print(\"Replacing the final classifier head...\")\n",
        "num_features = model.fc.in_features\n",
        "# The number of output classes is determined from your train_data\n",
        "num_classes = len(train_data.classes)\n",
        "model.fc = nn.Linear(num_features, num_classes)\n",
        "\n",
        "# --- 5. Define loss function and move model to device ---\n",
        "criterion = nn.CrossEntropyLoss()\n",
        "device = torch.device(\"cuda:0\" if torch.cuda.is_available() else \"cpu\")\n",
        "model = model.to(device)\n",
        "\n",
        "# --- 6. Set up the Optimizer with Differential Learning Rates ---\n",
        "# This is a critical best practice for fine-tuning. We use a lower\n",
        "# learning rate for the pre-trained layers and a higher one for the new classifier.\n",
        "print(\"Setting up optimizer with differential learning rates...\")\n",
        "pre_trained_params = list(model.layer3.parameters()) + list(model.layer4.parameters())\n",
        "new_classifier_params = model.fc.parameters()\n",
        "\n",
        "optimizer = optim.Adam([\n",
        "    {'params': pre_trained_params, 'lr': 1e-5},      # Very low LR for the convolutional layers\n",
        "    {'params': new_classifier_params, 'lr': 1e-3}    # Higher LR for the new classifier head\n",
        "])\n",
        "\n",
        "print(\"\\nModel setup complete and ready for training!\")"
      ],
      "metadata": {
        "colab": {
          "base_uri": "https://localhost:8080/"
        },
        "id": "FlLyFIhTEOeT",
        "outputId": "2d9a8523-3169-4596-c057-b66e5c961578"
      },
      "execution_count": 11,
      "outputs": [
        {
          "output_type": "stream",
          "name": "stderr",
          "text": [
            "Downloading: \"https://download.pytorch.org/models/resnet50-11ad3fa6.pth\" to /root/.cache/torch/hub/checkpoints/resnet50-11ad3fa6.pth\n",
            "100%|██████████| 97.8M/97.8M [00:01<00:00, 99.4MB/s]\n"
          ]
        },
        {
          "output_type": "stream",
          "name": "stdout",
          "text": [
            "Freezing all model layers...\n",
            "Unfreezing layers in 'layer3' and 'layer4'...\n",
            "Replacing the final classifier head...\n",
            "Setting up optimizer with differential learning rates...\n",
            "\n",
            "Model setup complete and ready for training!\n"
          ]
        }
      ]
    },
    {
      "cell_type": "code",
      "source": [
        "import numpy as np\n",
        "import torch\n",
        "\n",
        "class EarlyStopping:\n",
        "    \"\"\"Early stops the training if validation loss doesn't improve after a given patience.\"\"\"\n",
        "    def __init__(self, patience=7, verbose=False, delta=0, path='best_model_weights.pth', trace_func=print):\n",
        "        \"\"\"\n",
        "        Args:\n",
        "            patience (int): How long to wait after last time validation loss improved.\n",
        "                            Default: 7\n",
        "            verbose (bool): If True, prints a message for each validation loss improvement.\n",
        "                            Default: False\n",
        "            delta (float): Minimum change in the monitored quantity to qualify as an improvement.\n",
        "                            Default: 0\n",
        "            path (str): Path for the checkpoint to be saved to.\n",
        "                            Default: 'best_model_weights.pth'\n",
        "            trace_func (function): trace print function.\n",
        "                            Default: print\n",
        "        \"\"\"\n",
        "        self.patience = patience\n",
        "        self.verbose = verbose\n",
        "        self.counter = 0\n",
        "        self.best_score = None\n",
        "        self.early_stop = False\n",
        "        self.val_loss_min = np.inf\n",
        "        self.delta = delta\n",
        "        self.path = path\n",
        "        self.trace_func = trace_func\n",
        "\n",
        "    def __call__(self, val_loss, model):\n",
        "        score = -val_loss\n",
        "\n",
        "        if self.best_score is None:\n",
        "            self.best_score = score\n",
        "            self.save_checkpoint(val_loss, model)\n",
        "        elif score < self.best_score + self.delta:\n",
        "            self.counter += 1\n",
        "            self.trace_func(f'EarlyStopping counter: {self.counter} out of {self.patience}')\n",
        "            if self.counter >= self.patience:\n",
        "                self.early_stop = True\n",
        "        else:\n",
        "            self.best_score = score\n",
        "            self.save_checkpoint(val_loss, model)\n",
        "            self.counter = 0\n",
        "\n",
        "    def save_checkpoint(self, val_loss, model):\n",
        "        '''Saves model when validation loss decreases.'''\n",
        "        if self.verbose:\n",
        "            self.trace_func(f'Validation loss decreased ({self.val_loss_min:.6f} --> {val_loss:.6f}).  Saving model ...')\n",
        "        torch.save(model.state_dict(), self.path)\n",
        "        self.val_loss_min = val_loss"
      ],
      "metadata": {
        "id": "BDmF97mhGhCy"
      },
      "execution_count": 12,
      "outputs": []
    },
    {
      "cell_type": "code",
      "source": [
        "# --- Initialize Early Stopping ---\n",
        "# We'll stop training if validation loss doesn't improve for 5 epochs.\n",
        "# We'll save the best model to 'resnet_finetuned_best.pth'.\n",
        "# `verbose=True` will print a message each time the model is saved.\n",
        "patience = 5\n",
        "early_stopper = EarlyStopping(patience=patience, verbose=True, path='resnet_finetuned_best.pth')\n",
        "\n",
        "# Define the number of epochs\n",
        "num_epochs = 50 # You can set a higher number, early stopping will handle the rest\n",
        "\n",
        "# --- Main Training Loop with Early Stopping ---\n",
        "for epoch in range(num_epochs):\n",
        "    # --- Training Phase ---\n",
        "    model.train()\n",
        "    train_loss = 0.0\n",
        "    for i, (inputs, labels) in enumerate(train_loader):\n",
        "        inputs, labels = inputs.to(device), labels.to(device)\n",
        "\n",
        "        optimizer.zero_grad()\n",
        "        outputs = model(inputs)\n",
        "        loss = criterion(outputs, labels)\n",
        "        loss.backward()\n",
        "        optimizer.step()\n",
        "\n",
        "        train_loss += loss.item() * inputs.size(0)\n",
        "\n",
        "    # --- Validation Phase ---\n",
        "    model.eval()\n",
        "    test_loss = 0.0\n",
        "    test_acc = 0.0\n",
        "    with torch.no_grad():\n",
        "        for i, (inputs, labels) in enumerate(test_loader):\n",
        "            inputs, labels = inputs.to(device), labels.to(device)\n",
        "\n",
        "            outputs = model(inputs)\n",
        "            loss = criterion(outputs, labels)\n",
        "\n",
        "            test_loss += loss.item() * inputs.size(0)\n",
        "            _, preds = torch.max(outputs, 1)\n",
        "            test_acc += torch.sum(preds == labels.data)\n",
        "\n",
        "    # --- Calculate Average Losses and Accuracy ---\n",
        "    train_loss /= len(train_data)\n",
        "    test_loss /= len(test_data)\n",
        "    test_acc = test_acc.double() / len(test_data)\n",
        "\n",
        "    print(f\"Epoch [{epoch + 1}/{num_epochs}] Train Loss: {train_loss:.4f} Test Loss: {test_loss:.4f} Test Acc: {test_acc:.4f}\")\n",
        "\n",
        "    # --- Early Stopping Check ---\n",
        "    # Call the early stopper instance at the end of each epoch\n",
        "    early_stopper(test_loss, model)\n",
        "\n",
        "    if early_stopper.early_stop:\n",
        "        print(\"Early stopping triggered\")\n",
        "        break\n",
        "\n",
        "# --- Post-Training ---\n",
        "print(\"\\nTraining finished.\")\n",
        "print(f\"Best model saved to: {early_stopper.path}\")\n",
        "\n",
        "# To use the best model for inference later, you can load the saved weights:\n",
        "# model.load_state_dict(torch.load('resnet_finetuned_best.pth'))"
      ],
      "metadata": {
        "colab": {
          "base_uri": "https://localhost:8080/"
        },
        "id": "v8BvCPMFoccZ",
        "outputId": "afc6de0e-fe8f-4ec7-ed63-a9216eb376ce"
      },
      "execution_count": 12,
      "outputs": [
        {
          "output_type": "stream",
          "name": "stdout",
          "text": [
            "Epoch [1/50] Train Loss: 0.5062 Test Loss: 0.4165 Test Acc: 0.8704\n",
            "Validation loss decreased (inf --> 0.416493).  Saving model ...\n",
            "Epoch [2/50] Train Loss: 0.3817 Test Loss: 0.3824 Test Acc: 0.8879\n",
            "Validation loss decreased (0.416493 --> 0.382354).  Saving model ...\n",
            "Epoch [3/50] Train Loss: 0.3127 Test Loss: 0.3592 Test Acc: 0.8925\n",
            "Validation loss decreased (0.382354 --> 0.359233).  Saving model ...\n",
            "Epoch [4/50] Train Loss: 0.2585 Test Loss: 0.3606 Test Acc: 0.8947\n",
            "EarlyStopping counter: 1 out of 5\n",
            "Epoch [5/50] Train Loss: 0.2036 Test Loss: 0.3731 Test Acc: 0.8942\n",
            "EarlyStopping counter: 2 out of 5\n",
            "Epoch [6/50] Train Loss: 0.1577 Test Loss: 0.3743 Test Acc: 0.8851\n",
            "EarlyStopping counter: 3 out of 5\n",
            "Epoch [7/50] Train Loss: 0.1196 Test Loss: 0.4145 Test Acc: 0.8930\n",
            "EarlyStopping counter: 4 out of 5\n",
            "Epoch [8/50] Train Loss: 0.0904 Test Loss: 0.4242 Test Acc: 0.8913\n",
            "EarlyStopping counter: 5 out of 5\n",
            "Early stopping triggered\n",
            "\n",
            "Training finished.\n",
            "Best model saved to: resnet_finetuned_best.pth\n"
          ]
        }
      ]
    },
    {
      "cell_type": "code",
      "source": [
        "!pip install optuna -q\n",
        "\n",
        "import optuna\n",
        "import torch\n",
        "import torch.nn as nn\n",
        "import torch.optim as optim\n",
        "import torchvision.models as models\n",
        "import numpy as np\n",
        "from optuna.trial import TrialState\n",
        "\n",
        "\n",
        "# --- Dependency: EarlyStopping Class ---\n",
        "# Including the EarlyStopping class here so the cell is self-contained.\n",
        "class EarlyStopping:\n",
        "    \"\"\"Early stops the training if validation loss doesn't improve after a given patience.\"\"\"\n",
        "    def __init__(self, patience=7, verbose=False, delta=0, path='best_model_weights.pth', trace_func=print):\n",
        "        self.patience = patience\n",
        "        self.verbose = verbose\n",
        "        self.counter = 0\n",
        "        self.best_score = None\n",
        "        self.early_stop = False\n",
        "        self.val_loss_min = np.inf\n",
        "        self.delta = delta\n",
        "        self.path = path\n",
        "        self.trace_func = trace_func\n",
        "\n",
        "    def __call__(self, val_loss, model):\n",
        "        score = -val_loss\n",
        "        if self.best_score is None:\n",
        "            self.best_score = score\n",
        "            self.save_checkpoint(val_loss, model)\n",
        "        elif score < self.best_score + self.delta:\n",
        "            self.counter += 1\n",
        "            self.trace_func(f'EarlyStopping counter: {self.counter} out of {self.patience}')\n",
        "            if self.counter >= self.patience:\n",
        "                self.early_stop = True\n",
        "        else:\n",
        "            self.best_score = score\n",
        "            self.save_checkpoint(val_loss, model)\n",
        "            self.counter = 0\n",
        "\n",
        "    def save_checkpoint(self, val_loss, model):\n",
        "        '''Saves model when validation loss decreases.'''\n",
        "        if self.verbose:\n",
        "            self.trace_func(f'Validation loss decreased ({self.val_loss_min:.6f} --> {val_loss:.6f}).  Saving model ...')\n",
        "        torch.save(model.state_dict(), self.path)\n",
        "        self.val_loss_min = val_loss\n",
        "\n",
        "\n",
        "# --- 1. Define the Objective Function for Optuna ---\n",
        "# This function encapsulates one full training run. Optuna will call it for each trial.\n",
        "def objective(trial):\n",
        "    # --- Device Configuration ---\n",
        "    device = torch.device(\"cuda:0\" if torch.cuda.is_available() else \"cpu\")\n",
        "\n",
        "    # --- Hyperparameter Search Space ---\n",
        "    # We define the range of hyperparameters for Optuna to explore.\n",
        "    lr_backbone = trial.suggest_float(\"lr_backbone\", 1e-6, 1e-4, log=True)\n",
        "    lr_head = trial.suggest_float(\"lr_head\", 1e-4, 1e-2, log=True)\n",
        "    optimizer_name = trial.suggest_categorical(\"optimizer\", [\"Adam\", \"SGD\"])\n",
        "    early_stopping_patience = trial.suggest_int(\"patience\", 5, 10)\n",
        "\n",
        "    # --- Model Setup (The \"Balanced Approach\") ---\n",
        "    model = models.resnet50(weights=models.ResNet50_Weights.IMAGENET1K_V1)\n",
        "    for param in model.parameters():\n",
        "        param.requires_grad = False\n",
        "    for param in model.layer3.parameters():\n",
        "        param.requires_grad = True\n",
        "    for param in model.layer4.parameters():\n",
        "        param.requires_grad = True\n",
        "    num_features = model.fc.in_features\n",
        "    model.fc = nn.Linear(num_features, len(train_data.classes))\n",
        "    model = model.to(device)\n",
        "\n",
        "    # --- Optimizer and Loss Function ---\n",
        "    pre_trained_params = list(model.layer3.parameters()) + list(model.layer4.parameters())\n",
        "    new_classifier_params = model.fc.parameters()\n",
        "\n",
        "    if optimizer_name == \"Adam\":\n",
        "        optimizer = optim.Adam([\n",
        "            {'params': pre_trained_params, 'lr': lr_backbone},\n",
        "            {'params': new_classifier_params, 'lr': lr_head}\n",
        "        ])\n",
        "    else: # SGD\n",
        "        optimizer = optim.SGD([\n",
        "            {'params': pre_trained_params, 'lr': lr_backbone, 'momentum': 0.9},\n",
        "            {'params': new_classifier_params, 'lr': lr_head, 'momentum': 0.9}\n",
        "        ])\n",
        "\n",
        "    criterion = nn.CrossEntropyLoss()\n",
        "\n",
        "    # --- Initialize Early Stopping for this trial ---\n",
        "    # Each trial gets its own early stopper and saved model file.\n",
        "    trial_model_path = f'trial_{trial.number}_best_model.pth'\n",
        "    early_stopper = EarlyStopping(patience=early_stopping_patience, verbose=False, path=trial_model_path)\n",
        "\n",
        "    # --- Training & Validation Loop ---\n",
        "    num_epochs = 25 # Set a max number of epochs; early stopping will likely finish sooner\n",
        "    for epoch in range(num_epochs):\n",
        "        model.train()\n",
        "        for inputs, labels in train_loader:\n",
        "            inputs, labels = inputs.to(device), labels.to(device)\n",
        "            optimizer.zero_grad()\n",
        "            outputs = model(inputs)\n",
        "            loss = criterion(outputs, labels)\n",
        "            loss.backward()\n",
        "            optimizer.step()\n",
        "\n",
        "        model.eval()\n",
        "        test_loss = 0.0\n",
        "        correct = 0\n",
        "        total = 0\n",
        "        with torch.no_grad():\n",
        "            for inputs, labels in test_loader:\n",
        "                inputs, labels = inputs.to(device), labels.to(device)\n",
        "                outputs = model(inputs)\n",
        "                loss = criterion(outputs, labels)\n",
        "                test_loss += loss.item() * inputs.size(0)\n",
        "                _, preds = torch.max(outputs, 1)\n",
        "                total += labels.size(0)\n",
        "                correct += (preds == labels).sum().item()\n",
        "\n",
        "        epoch_val_loss = test_loss / len(test_data)\n",
        "        epoch_val_acc = correct / total\n",
        "\n",
        "        # --- Report intermediate results to Optuna Pruner ---\n",
        "        trial.report(epoch_val_acc, epoch)\n",
        "\n",
        "        # Handle pruning\n",
        "        if trial.should_prune():\n",
        "            raise optuna.exceptions.TrialPruned()\n",
        "\n",
        "        # Handle early stopping\n",
        "        early_stopper(epoch_val_loss, model)\n",
        "        if early_stopper.early_stop:\n",
        "            print(f\"Trial {trial.number}: Early stopping triggered at epoch {epoch+1}\")\n",
        "            break\n",
        "\n",
        "    # Return the best validation accuracy achieved in this trial\n",
        "    # The best score from early_stopper is -val_loss_min, we can use that to find best accuracy.\n",
        "    # But since we reported accuracy at each step, Optuna already knows the best value.\n",
        "    # We will just return the last reported accuracy.\n",
        "    return epoch_val_acc\n",
        "\n",
        "\n",
        "# --- 2. Create and Run the Optuna Study ---\n",
        "# A pruner is used to stop unpromising trials early.\n",
        "study = optuna.create_study(\n",
        "    direction=\"maximize\",\n",
        "    pruner=optuna.pruners.MedianPruner(n_startup_trials=5, n_warmup_steps=5)\n",
        ")\n",
        "\n",
        "# Start the optimization process.\n",
        "# `n_trials` is the number of different hyperparameter combinations to test.\n",
        "study.optimize(objective, n_trials=25)\n",
        "\n",
        "\n",
        "# --- 3. Print the Results ---\n",
        "pruned_trials = study.get_trials(deepcopy=False, states=[TrialState.PRUNED])\n",
        "complete_trials = study.get_trials(deepcopy=False, states=[TrialState.COMPLETE])\n",
        "\n",
        "print(\"\\n--------------------------------------------------\")\n",
        "print(\"Study statistics: \")\n",
        "print(f\"  Number of finished trials: {len(study.trials)}\")\n",
        "print(f\"  Number of pruned trials: {len(pruned_trials)}\")\n",
        "print(f\"  Number of complete trials: {len(complete_trials)}\")\n",
        "\n",
        "print(\"\\nBest trial:\")\n",
        "best_trial = study.best_trial\n",
        "print(f\"  Value (Max Validation Accuracy): {best_trial.value:.4f}\")\n",
        "\n",
        "print(\"\\n  Best Hyperparameters:\")\n",
        "for key, value in best_trial.params.items():\n",
        "    print(f\"    {key}: {value}\")"
      ],
      "metadata": {
        "colab": {
          "base_uri": "https://localhost:8080/"
        },
        "id": "B-mtoiolCVak",
        "outputId": "b36e8b90-1a86-441a-b935-5d9df0951ca1"
      },
      "execution_count": null,
      "outputs": [
        {
          "metadata": {
            "tags": null
          },
          "name": "stderr",
          "output_type": "stream",
          "text": [
            "[I 2025-06-29 17:28:03,074] A new study created in memory with name: no-name-f9c06fd0-7e08-4edc-b7ed-1050ca095b45\n"
          ]
        },
        {
          "metadata": {
            "tags": null
          },
          "name": "stdout",
          "output_type": "stream",
          "text": [
            "EarlyStopping counter: 1 out of 10\n",
            "EarlyStopping counter: 2 out of 10\n",
            "EarlyStopping counter: 3 out of 10\n",
            "EarlyStopping counter: 4 out of 10\n",
            "EarlyStopping counter: 5 out of 10\n",
            "EarlyStopping counter: 6 out of 10\n",
            "EarlyStopping counter: 7 out of 10\n",
            "EarlyStopping counter: 8 out of 10\n"
          ]
        }
      ]
    },
    {
      "cell_type": "code",
      "source": [
        "import torch\n",
        "import torch.nn as nn\n",
        "from torchvision.models import resnet50, ResNet50_Weights\n",
        "from sklearn.metrics import confusion_matrix, classification_report\n",
        "import seaborn as sns\n",
        "import matplotlib.pyplot as plt\n",
        "import numpy as np\n",
        "\n",
        "# --- 1. Define and Load the Model ---\n",
        "# This part remains the same.\n",
        "num_classes = len(train_data.classes)\n",
        "class_names = train_data.classes\n",
        "print(f\"Number of classes: {num_classes}\")\n",
        "print(f\"Class names: {class_names}\")\n",
        "\n",
        "model = resnet50()\n",
        "num_features = model.fc.in_features\n",
        "model.fc = nn.Linear(num_features, num_classes)\n",
        "\n",
        "model_weights_path = 'resnet_finetuned_best.pth'\n",
        "model.load_state_dict(torch.load(model_weights_path))\n",
        "\n",
        "device = torch.device(\"cuda:0\" if torch.cuda.is_available() else \"cpu\")\n",
        "model = model.to(device)\n",
        "model.eval()\n",
        "\n",
        "# --- 2. Get Predictions on the Test Set ---\n",
        "# This part remains the same.\n",
        "all_preds = []\n",
        "all_labels = []\n",
        "\n",
        "with torch.no_grad():\n",
        "    for inputs, labels in test_loader:\n",
        "        inputs = inputs.to(device)\n",
        "        labels = labels.to(device)\n",
        "        outputs = model(inputs)\n",
        "        _, preds = torch.max(outputs, 1)\n",
        "        all_preds.extend(preds.cpu().numpy())\n",
        "        all_labels.extend(labels.cpu().numpy())\n",
        "\n",
        "# --- 3. Print Classification Report ---\n",
        "# This part remains the same and is still very useful.\n",
        "print(\"\\nClassification Report:\")\n",
        "print(classification_report(all_labels, all_preds, target_names=class_names, zero_division=0))\n",
        "\n",
        "# --- 4. Generate and Plot the NORMALIZED Confusion Matrix ---\n",
        "print(\"\\nGenerating Normalized Confusion Matrix...\")\n",
        "\n",
        "# KEY CHANGE: Use normalize='true' to get proportions instead of counts.\n",
        "cm = confusion_matrix(all_labels, all_preds, normalize='true')\n",
        "\n",
        "plt.figure(figsize=(12, 10))\n",
        "\n",
        "# KEY CHANGE: Change the format of the annotations to show percentages.\n",
        "# fmt='.2f' will display the values as floating-point numbers with 2 decimal places.\n",
        "sns.heatmap(cm, annot=True, fmt='.2f', cmap='Blues',\n",
        "            xticklabels=class_names, yticklabels=class_names)\n",
        "\n",
        "plt.xlabel('Predicted Labels', fontsize=12)\n",
        "plt.ylabel('True Labels', fontsize=12)\n",
        "plt.title('Normalized Confusion Matrix', fontsize=14)\n",
        "plt.show()"
      ],
      "metadata": {
        "colab": {
          "base_uri": "https://localhost:8080/",
          "height": 1000
        },
        "id": "OhHmi0W1eBb3",
        "outputId": "dd41a338-bad6-454a-eda8-5b32b3e300da"
      },
      "execution_count": 13,
      "outputs": [
        {
          "output_type": "stream",
          "name": "stdout",
          "text": [
            "Number of classes: 6\n",
            "Class names: ['0', '1', '2', '3', '4', '5']\n",
            "\n",
            "Classification Report:\n",
            "              precision    recall  f1-score   support\n",
            "\n",
            "           0       0.67      0.67      0.67        12\n",
            "           1       0.90      1.00      0.95      1527\n",
            "           2       0.00      0.00      0.00         3\n",
            "           3       0.38      0.04      0.07       134\n",
            "           4       0.76      0.85      0.80        33\n",
            "           5       0.75      0.26      0.38        58\n",
            "\n",
            "    accuracy                           0.89      1767\n",
            "   macro avg       0.58      0.47      0.48      1767\n",
            "weighted avg       0.85      0.89      0.86      1767\n",
            "\n",
            "\n",
            "Generating Confusion Matrix...\n"
          ]
        },
        {
          "output_type": "display_data",
          "data": {
            "text/plain": [
              "<Figure size 1200x1000 with 2 Axes>"
            ],
            "image/png": "[encoded data removed]"
          },
          "metadata": {}
        }
      ]
    }
  ]
}